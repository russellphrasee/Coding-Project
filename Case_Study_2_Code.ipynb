{
  "nbformat": 4,
  "nbformat_minor": 0,
  "metadata": {
    "colab": {
      "name": "Case Study 2 Code.ipynb",
      "provenance": [],
      "collapsed_sections": [],
      "include_colab_link": true
    },
    "kernelspec": {
      "name": "python3",
      "display_name": "Python 3"
    },
    "language_info": {
      "name": "python"
    }
  },
  "cells": [
    {
      "cell_type": "markdown",
      "metadata": {
        "id": "view-in-github",
        "colab_type": "text"
      },
      "source": [
        "<a href=\"https://colab.research.google.com/github/AlexanderPriest/Coding-Project/blob/main/Case_Study_2_Code.ipynb\" target=\"_parent\"><img src=\"https://colab.research.google.com/assets/colab-badge.svg\" alt=\"Open In Colab\"/></a>"
      ]
    },
    {
      "cell_type": "code",
      "source": [
        "Names = ['Larysa', 'Bozhena', 'Solomiya', 'Vesna', 'Sofia', 'Petruso', 'Ulyana', 'Zhadana', 'Tamara', 'Lyubov', 'Alona', 'Lyudmyla', 'Aleksandra', 'Volodymyr', 'Xristina', 'Kuzma', 'Oleksander', 'Olga', 'Daryna', 'Yelyzaveta', 'Marko', 'Karina', 'Glib', 'Hadeon', 'Maxim', 'Dasha', 'Kyrylo', 'Yana', 'Symon', 'Alina', 'Olena', 'Diana', 'Faddei', 'Zoya', 'Oksana', 'Valentyna', 'Bodashka', 'Olek', 'Vasyl', 'Roksolana', 'Lidiya', 'Sasha', 'Sofiya', 'Valeriya', 'Kseniya', 'Irina', 'Mykyta', 'Victoriya', 'Stefania', 'Fedir', 'Ekaterina', 'Natali', 'Yeva', 'Tetyana', 'Anastasiya', 'Viktoria', 'Nataliya', 'Kateryna', 'Vasylyna', 'Lera', 'Ludmila', 'Boryslav', 'Aleksander', 'Krystiyan', 'Pavlo', 'Marta', 'Mila', 'Borysko', 'Inessa', 'Heorhiy', 'Iryna', 'Grygoriy', 'Milla', 'Nastya', 'Yaroslava', 'Ulyana', 'Antonina', 'Galyna', 'Vladyslava', 'Ivan', 'Inna', 'Elena', 'Pylyp', 'Ganna', 'Liliya', 'Yulia', 'Oleksiy', 'Natalka', 'Yaryna', 'Katya', 'Dymtrus', 'Solomia', 'Matviyko', 'Polina', 'Vitaliya', 'Kostyantyn', 'Svitlana', 'Ionna', 'Angelina', 'Petro', 'Georgiy', 'Alyona', 'Nazayia', 'Vira', 'Milena', 'Lyudmyla', 'Maria', 'Danylko', 'Andriy', 'Lavra', 'Mykhailo', 'Igor', 'Galina', 'Veronika', 'Mariya', 'Bohdan', 'Antin', 'Lilya', 'Danilo', 'Nadiya', 'Anna', 'Mila', 'Yakiv', 'Larysa', 'Lyaksandro', 'Khrystyna', 'Darina', 'Nina', 'Maryna', 'Alla', 'Golda', 'Draga', 'Nyura', 'Nikolina', 'Artem', 'Yevheniy', 'Bohuslava', 'Taisiya', 'Taras', 'Zoryana', 'Danica', 'Ruslana', 'Mykola', 'Anna', 'Ivanna', 'Myroslava', 'Oleksandra', 'Zlata', 'Bohdana', 'Burian']\n",
        "Countries = ['Lithuania', 'Romania', 'Slovenia', 'Belarus', 'Lithuania', 'Hungary', 'Poland', 'Czechia', 'Hungary', 'Hungary', 'Hungary', 'Romania', 'Croatia', 'Slovakia', 'Poland', 'Slovakia', 'Slovakia', 'Hungary', 'Slovakia', 'Slovakia', 'Hungary', 'Hungary', 'Poland', 'Slovakia', 'Lithuania', 'Slovakia', 'Lithuania', 'Serbia', 'Hungary', 'Hungary', 'Poland', 'Slovakia', 'Poland', 'Poland', 'Poland', 'Slovakia', 'Russia', 'Lithuania', 'Czechia', 'Poland', 'Slovenia', 'Czechia', 'Slovenia', 'Lithuania', 'Romania', 'Poland', 'Croatia', 'Slovakia', 'Belarus', 'Lithuania', 'Poland', 'Czechia', 'Belarus', 'Latvia', 'Ukraine', 'Lithuania', 'Croatia', 'Belgium', 'Slovakia', 'Czechia', 'Croatia', 'Czechia', 'Czechia', 'Ukraine', 'Belarus', 'Netherlands', 'Germany', 'Czechia', 'Lithuania', 'Poland', 'Belarus', 'Russia', 'Netherlands', 'Romania', 'Hungary', 'Poland', 'Bulgaria', 'Ukraine', 'Hungary', 'Hungary', 'Poland', 'Hungary', 'Lithuania', 'Germany', 'Croatia', 'Poland', 'Slovenia', 'Croatia', 'Hungary', 'Poland', 'Moldova', 'Slovakia', 'Poland', 'Czechia', 'Slovakia', 'Italy', 'Poland', 'Italy', 'Slovenia', 'Poland', 'Poland', 'Latvia', 'Hungary', 'Russia', 'Moldova', 'Hungary', 'Hungary', 'Serbia', 'Belarus', 'Romania', 'Bulgaria', 'Slovakia', 'Croatia', 'Slovakia', 'Lithuania', 'Serbia', 'Slovenia', 'Lithuania', 'Slovakia', 'Croatia', 'Czechia', 'Hungary', 'Poland', 'Hungary', 'Lithuania', 'Belarus', 'Poland', 'Lithuania', 'Czechia', 'Russia', 'Hungary', 'Hungary', 'Poland', 'Germany', 'Latvia', 'Poland', 'Lithuania', 'Slovenia', 'Czechia', 'Poland', 'Poland', 'Slovakia', 'Croatia', 'Lithuania', 'Lithuania', 'Lithuania', 'Slovakia', 'Russia', 'Slovenia', 'Germany']\n",
        "\n",
        "lst = list(zip(Countries, Names))\n",
        "print(lst)\n",
        "\n"
      ],
      "metadata": {
        "id": "xIFmR6l3NdJy"
      },
      "execution_count": null,
      "outputs": []
    },
    {
      "cell_type": "code",
      "source": [
        "def bubble_sort(lst):\n",
        "  n = len(lst)\n",
        "  for i in range(n):\n",
        "    for j in range((n) - 1):\n",
        "      if lst[j] > lst[j + 1]:\n",
        "        lst[j], lst[j + 1] = lst[j + 1], lst[j]\n",
        "\n",
        "bubble_sort(lst)\n",
        "Sorted_List = lst\n",
        "print(Sorted_List)"
      ],
      "metadata": {
        "id": "1aQpzrLMDrty"
      },
      "execution_count": null,
      "outputs": []
    },
    {
      "cell_type": "code",
      "source": [
        "dictionary = {}\n",
        "def Convert(Tuple, dictionary):\n",
        "    for a, b in Tuple:\n",
        "        dictionary.setdefault(a, []).append(b)\n",
        "    return dictionary \n",
        "\n",
        "\n",
        "Convert(Sorted_List, dictionary)\n",
        "Converted = dictionary\n",
        "#print(Converted)\n",
        "for index, country in enumerate(Converted):\n",
        "    print(country, Converted[country])"
      ],
      "metadata": {
        "id": "7jMc-Ew5wajL"
      },
      "execution_count": null,
      "outputs": []
    },
    {
      "cell_type": "code",
      "source": [
        "\n",
        "search_by_name = input(\"Please Enter a Name: \")\n",
        "\n",
        "list_of_countries = [countries for countries, list_of_values in Converted.items() if search_by_name in list_of_values]\n",
        "if list_of_countries:\n",
        "    print(list_of_countries)\n",
        "else:\n",
        "    print('This name cannot be found in our system, please try again!')"
      ],
      "metadata": {
        "id": "JtyrjmgIM1Yu"
      },
      "execution_count": null,
      "outputs": []
    },
    {
      "cell_type": "code",
      "source": [
        "class Node:\n",
        "    def __init__(self, value, names, children=None):\n",
        "        if children is None:\n",
        "            children = []\n",
        "        self.value = value\n",
        "        self.children = children\n",
        "        self.names = names\n",
        "    def __repr__(self):\n",
        "        if self.children:\n",
        "            fmt = 'Node({!r}, {!r})'\n",
        "        else:\n",
        "            fmt = 'Node({!r})'\n",
        "        return fmt.format(self.value, self.names, self.children)\n",
        "\n",
        "root_node = Node('Ukraine', data,\n",
        "                 [Node('Belarus', data,\n",
        "                       [Node('Latvia', data), \n",
        "                        Node('Lithuania', data)]), \n",
        "                  Node('Hungary', data,\n",
        "                       [Node('Slovania', data,\n",
        "                             [Node('Italy', data)]),\n",
        "                        Node('Croatia', data)]), \n",
        "                  Node('Moldova', data), \n",
        "                  Node('Poland', data,\n",
        "                       [Node('Germany', data,\n",
        "                             [Node('Belgium', data), \n",
        "                              Node('Netherlands', data)])]),\n",
        "                  Node('Romania', data,\n",
        "                       [Node('Serbia', data), \n",
        "                        Node('Bulgaria', data,)]),\n",
        "                  Node('Russia', data), \n",
        "                  Node('Slovakia', data,\n",
        "                       [Node('Czechia', data,)])])\n",
        "\n",
        "data = ['Anastasiya', 'Galyna', 'Krystiyan']\n",
        "'''\n",
        "data = 'abc', '123'\n",
        "root_node = Node('Ukraine', data, [Node('Belarus', data, [])])\n",
        "print(root_node)\n",
        "'''\n",
        "print(root_node)"
      ],
      "metadata": {
        "id": "epHcyvkMqLUY"
      },
      "execution_count": null,
      "outputs": []
    },
    {
      "cell_type": "code",
      "source": [
        "\n",
        "def iterative_dfs(root_node, target):\n",
        "  # create a stack of nodes to visit\n",
        "  nodes_to_visit = [root_node]\n",
        "\n",
        "  while nodes_to_visit:\n",
        "    # visit the next node\n",
        "    node = nodes_to_visit.pop()\n",
        "    print('Visiting node', node.value)\n",
        "\n",
        "    if node.value == target:\n",
        "      # found it!\n",
        "      return node\n",
        "\n",
        "    # make sure we visit the child nodes\n",
        "    for child in node.children:\n",
        "      nodes_to_visit.append(child)\n",
        "\n",
        "  # no more nodes to visit, target wasn't found\n",
        "  return None\n",
        "\n",
        "from collections import deque\n",
        "\n",
        "def breadth_first_search(root_node, target):\n",
        "  # create a queue of nodes to visit\n",
        "  nodes_to_visit = deque([root_node])\n",
        "\n",
        "  while nodes_to_visit:\n",
        "    # visit the next node\n",
        "    node = nodes_to_visit.popleft()\n",
        "    print('Visiting node', node.value)\n",
        "\n",
        "    if node.value == target:\n",
        "      # found it!\n",
        "      return node.value, node.names\n",
        "\n",
        "    # make sure we visit the child nodes\n",
        "    for child in node.children:\n",
        "      nodes_to_visit.append(child)\n",
        "\n",
        "  # no more nodes to visit, target wasn't found\n",
        "  return None\n",
        "\n",
        "print(\"DFS: \", iterative_dfs(root_node, 'Croatia'))\n",
        "print('\\n')\n",
        "print(\"BFS: \", breadth_first_search(root_node, 'Croatia'))"
      ],
      "metadata": {
        "id": "mBX_y4v46diX"
      },
      "execution_count": null,
      "outputs": []
    }
  ]
}